{
 "cells": [
  {
   "cell_type": "code",
   "execution_count": 1,
   "id": "47e1cdb9",
   "metadata": {},
   "outputs": [],
   "source": [
    "def memit_parser(std):\n",
    "    # This function parses the output of the memory_profiler module\n",
    "    std = str(std)\n",
    "    return std.split(\" \")[2]"
   ]
  },
  {
   "cell_type": "code",
   "execution_count": 2,
   "id": "0a6fd5af",
   "metadata": {},
   "outputs": [
    {
     "name": "stdout",
     "output_type": "stream",
     "text": [
      "The memory_profiler extension is already loaded. To reload it, use:\n",
      "  %reload_ext memory_profiler\n",
      "Is the context private? Yes\n",
      "Automatic relinearization is: on\n",
      "Automatic rescaling is: on\n",
      "Automatic modulus switching is: on\n",
      "peak memory: 3485.93 MiB, increment: 3384.55 MiB\n"
     ]
    }
   ],
   "source": [
    "%load_ext memory_profiler \n",
    "mu_key_generation = %memit -o from ET_ContextGenerator import key_context as context\n",
    "mu_key_generation = memit_parser(mu_key_generation)\n"
   ]
  },
  {
   "cell_type": "code",
   "execution_count": 3,
   "id": "828862b3",
   "metadata": {},
   "outputs": [],
   "source": [
    "import os\n",
    "dir = os.getcwd()\n",
    "if dir.split(\"/\")[-3] == \"codebase\":\n",
    "    os.chdir(\"../../\")\n"
   ]
  },
  {
   "cell_type": "code",
   "execution_count": 4,
   "id": "6f6ce342",
   "metadata": {},
   "outputs": [
    {
     "data": {
      "image/png": "[encoded data removed]",
      "text/plain": [
       "<Figure size 432x288 with 1 Axes>"
      ]
     },
     "metadata": {},
     "output_type": "display_data"
    }
   ],
   "source": [
    "import torch\n",
    "import torch.nn as nn\n",
    "import numpy as np\n",
    "import pandas as pd\n",
    "import seaborn as sns\n",
    "import matplotlib.pyplot as plt\n",
    "import tenseal as ts\n",
    "import time\n",
    "import dataset_generator as dg  # Import dataset_generator.py\n"
   ]
  },
  {
   "cell_type": "code",
   "execution_count": 5,
   "id": "203684d8",
   "metadata": {},
   "outputs": [],
   "source": [
    "# importing module\n",
    "from csv_logger import CsvLogger\n",
    "import logging\n",
    "\n",
    "filename = f\"./ET_Log/Sample:{dg.n_samples}|Noise:{dg.noise}.csv\"\n",
    "delimiter = \",\"\n",
    "level = logging.INFO\n",
    "fmt = f\"%(asctime)s{delimiter}%(levelname)s{delimiter}%(message)s\"\n",
    "datefmt = \"%Y/%m/%d %H:%M:%S\"\n",
    "level = logging.INFO\n",
    "header = [\n",
    "    \"Date\",\n",
    "    \"Level\",\n",
    "    \"Final Loss\",\n",
    "    \"Degree of accuracy (Decimal place)\",\n",
    "    \"Encrypted test accuracy\",\n",
    "    \"Average duration per epoch\",\n",
    "    \"Memory of model\",\n",
    "    \"Memory usage of Encrypting X axis train set\",\n",
    "    \"Memory usage of Encrypting Y axis train set\",\n",
    "    \"Memory usage of Key generation\"\n",
    "]\n",
    "csvlogger = CsvLogger(\n",
    "    filename=filename,\n",
    "    delimiter=delimiter,\n",
    "    level=level,\n",
    "    fmt=fmt,\n",
    "    datefmt=datefmt,\n",
    "    header=header,\n",
    ")\n"
   ]
  },
  {
   "cell_type": "code",
   "execution_count": 6,
   "id": "3858f76a",
   "metadata": {
    "lines_to_next_cell": 0
   },
   "outputs": [
    {
     "data": {
      "text/plain": [
       "<torch._C.Generator at 0x7ff9c59b4450>"
      ]
     },
     "execution_count": 6,
     "metadata": {},
     "output_type": "execute_result"
    }
   ],
   "source": [
    "torch.random.manual_seed(10)\n"
   ]
  },
  {
   "cell_type": "markdown",
   "id": "557a4718",
   "metadata": {},
   "source": [
    "## PyTorch Linear regression model"
   ]
  },
  {
   "cell_type": "code",
   "execution_count": 7,
   "id": "8cba6590",
   "metadata": {},
   "outputs": [],
   "source": [
    "class LinearRegressionModel(nn.Module):\n",
    "    def __init__(self, input_dim, output_dim):\n",
    "        super(LinearRegressionModel, self).__init__()\n",
    "        self.linear = nn.Linear(input_dim, output_dim)\n",
    "\n",
    "    def forward(self, x):\n",
    "        out = self.linear(x)\n",
    "        return out\n"
   ]
  },
  {
   "cell_type": "markdown",
   "id": "e3fc93ea",
   "metadata": {},
   "source": [
    "## Custom encrypted wrapper\n",
    "This HE handler is adapted from https://github.com/OpenMined/TenSEAL/blob/main/tutorials/Tutorial%201%20-%20Training%20and%20Evaluation%20of%20Logistic%20Regression%20on%20Encrypted%20Data.ipynb"
   ]
  },
  {
   "cell_type": "code",
   "execution_count": 8,
   "id": "6055b1f1",
   "metadata": {},
   "outputs": [],
   "source": [
    "class EncryptedLinReg:\n",
    "    def __init__(self, torch_lr, context):\n",
    "        self.weight = torch_lr.linear.weight.data.tolist()[0]\n",
    "        self.bias = torch_lr.linear.bias.data.tolist()\n",
    "        self.decimal_accuracy = -1\n",
    "        # we accumulate gradients and counts the number of iterations\n",
    "        self._delta_w = 0\n",
    "        self._delta_b = 0\n",
    "        self._count = 0\n",
    "\n",
    "    def forward(self, enc_x):\n",
    "        enc_out = enc_x.dot(self.weight) + self.bias\n",
    "        return enc_out\n",
    "\n",
    "    def backward(self, enc_x, enc_out, enc_y):\n",
    "        self.out_minus_y = enc_out - enc_y  #Loss value Since we were using Mean Absolute Error for the PT model\n",
    "        print(\n",
    "            f\"Loss for iteration is {sum(abs(number) for number in self.out_minus_y.decrypt())}\"\n",
    "        )\n",
    "        ## SGD\n",
    "        self._delta_w += 1 / (self._count + 1) * (enc_x * self.out_minus_y) ** 2\n",
    "        self._delta_b += self.out_minus_y\n",
    "        self._count += 1\n",
    "\n",
    "    def update_parameters(self):\n",
    "        if self._count == 0:\n",
    "            raise RuntimeError(\"You should at least run one forward iteration\")\n",
    "        # update weights and bias\n",
    "        self.weight -= self._delta_w * (1 / self._count) + self.weight\n",
    "        self.bias -= self._delta_b * (1 / self._count)\n",
    "        \n",
    "        #Reset gradient accumulators and iterations count for the next iteration\n",
    "        self._delta_w = 0\n",
    "        self._delta_b = 0\n",
    "        self._count = 0\n",
    "\n",
    "    def clip_gradient(self, context):\n",
    "        \"\"\"Implement gradient cliping by norm\n",
    "        This will decrypt weight and clip the gradient via the norm\n",
    "\n",
    "        Args:\n",
    "            context (TensealContext): TensealContext object used to encrypt the weights again\n",
    "        \"\"\"\n",
    "        threshold = 0.2\n",
    "        if type(self.weight) == ts.CKKSVector:\n",
    "            ct_weight = self.weight.decrypt()\n",
    "            norm = np.linalg.norm(ct_weight)\n",
    "            if norm > threshold or norm < -threshold:\n",
    "                ct_weight = [weight * threshold / norm for weight in ct_weight]\n",
    "                self.weight = ts.ckks_vector(context, ct_weight)\n",
    "        else:\n",
    "            pt_weight = self.weight\n",
    "            norm = np.linalg.norm(pt_weight)\n",
    "            if norm > threshold or norm < -threshold:\n",
    "                self.weight = [weight * threshold / norm for weight in pt_weight]\n",
    "\n",
    "        # eelr.clip_delta_gradient(self.context)\n",
    "\n",
    "    def clip_delta_gradient(self, context):\n",
    "        \"\"\"Implement gradient cliping by norm\n",
    "        This will decrypt weight and clip the delta gradient via the norm\n",
    "\n",
    "        Args:\n",
    "            context (TensealContext): TensealContext object used to encrypt the weights again\n",
    "        \"\"\"\n",
    "        threshold = 0.2\n",
    "        if type(self._delta_w) == ts.CKKSVector:\n",
    "            ct_weight = self._delta_w.decrypt()\n",
    "            norm = np.linalg.norm(ct_weight)\n",
    "            if norm > threshold or norm < -threshold:\n",
    "                ct_weight = [weight * threshold / norm for weight in ct_weight]\n",
    "                self._delta_w = ts.ckks_vector(context, ct_weight)\n",
    "        else:\n",
    "            pt_weight = self._delta_w\n",
    "            norm = np.linalg.norm(pt_weight)\n",
    "            if norm > threshold or norm < -threshold:\n",
    "                self._delta_w = [weight * threshold / norm for weight in pt_weight]\n",
    "\n",
    "    def plain_accuracy(self, x_test, y_test):\n",
    "        #Test the model\n",
    "        w = torch.tensor(self.weight)\n",
    "        b = torch.tensor(self.bias)\n",
    "        out = (x_test.matmul(w) + b).reshape(-1, 1)\n",
    "        with torch.no_grad():  # no need to calculate gradients for testing\n",
    "            y_pred_experience = torch.round(\n",
    "                out, decimals=self.decimal_accuracy\n",
    "            )  # Predicited result: nearest year experience rounded to whole number\n",
    "            y_real_rounded = torch.round(\n",
    "                y_test, decimals=self.decimal_accuracy\n",
    "            ) # Actual result: nearest year experience rounded to whole number\n",
    "            accuracy = torch.eq(y_pred_experience, y_real_rounded)\n",
    "        return torch.sum(accuracy).item() / len(accuracy) * 100 #Accuracy in percentage\n",
    "\n",
    "    def encrypt(self, context):\n",
    "        self.weight = ts.ckks_vector(context, self.weight)\n",
    "        self.bias = ts.ckks_vector(context, self.bias)\n",
    "\n",
    "    def decrypt(self):\n",
    "        self.weight = self.weight.decrypt()\n",
    "        self.bias = self.bias.decrypt()\n",
    "\n",
    "    def __call__(self, *args, **kwargs):\n",
    "        return self.forward(*args, **kwargs)\n"
   ]
  },
  {
   "cell_type": "code",
   "execution_count": 9,
   "id": "e1b7cda1",
   "metadata": {},
   "outputs": [],
   "source": [
    "def test_train_split(df):\n",
    "    training_data = df.sample(frac=0.5, random_state=25)  #50/50 split for simplicity of the model\n",
    "    testing_data = df.drop(training_data.index)\n",
    "    y_train, x_train = (\n",
    "        training_data[\"YearsExperience\"].to_numpy(),\n",
    "        training_data[\"Salary\"].to_numpy(),\n",
    "    )\n",
    "    y_test, x_test = (\n",
    "        testing_data[\"YearsExperience\"].to_numpy(),\n",
    "        testing_data[\"Salary\"].to_numpy(),\n",
    "    )\n",
    "    return x_train, y_train, x_test, y_test\n"
   ]
  },
  {
   "cell_type": "code",
   "execution_count": 10,
   "id": "03b77812",
   "metadata": {
    "lines_to_next_cell": 2
   },
   "outputs": [
    {
     "name": "stdout",
     "output_type": "stream",
     "text": [
      "peak memory: 3702.77 MiB, increment: 12.78 MiB\n",
      "peak memory: 3706.70 MiB, increment: 3.93 MiB\n"
     ]
    }
   ],
   "source": [
    "df = pd.read_csv(\"./LinearRegression/Data/Custom_Salary_Data.csv\")\n",
    "\n",
    "x_train, y_train, x_test, y_test = test_train_split(df)\n",
    "\n",
    "#Preparing dataset\n",
    "x_train = x_train.reshape(-1, 1)\n",
    "y_train = y_train.reshape(-1, 1)\n",
    "x_test = x_test.reshape(-1, 1)\n",
    "y_test = y_test.reshape(-1, 1)\n",
    "\n",
    "\n",
    "x_train_tensor = torch.from_numpy(x_train).double().requires_grad_()\n",
    "y_train_tensor = torch.from_numpy(y_train).double().requires_grad_()\n",
    "\n",
    "x_test_tensor = torch.from_numpy(x_test).double()\n",
    "y_test_tensor = torch.from_numpy(y_test).double()\n",
    "\n",
    "#Measure memory usage of encrypting the dataset\n",
    "mu_enc_x_train=  %memit -o enc_x_train = ts.ckks_vector(context, x_train.flatten())\n",
    "mu_enc_x_train = memit_parser(mu_enc_x_train)\n",
    "mu_enc_y_train = %memit -o enc_y_train = ts.ckks_vector(context, y_train.flatten())\n",
    "mu_enc_y_train = memit_parser(mu_enc_y_train)"
   ]
  },
  {
   "cell_type": "code",
   "execution_count": 11,
   "id": "703c1ec3",
   "metadata": {},
   "outputs": [
    {
     "name": "stdout",
     "output_type": "stream",
     "text": [
      "Accuracy at epoch #0 is 0.0\n",
      "Loss for iteration is 431951553.4939409\n",
      "Accuracy at epoch #1 is 0.0\n",
      "Loss for iteration is 362701562.92831016\n",
      "Accuracy at epoch #2 is 0.0\n",
      "Loss for iteration is 3785709.806138874\n",
      "Accuracy at epoch #3 is 0.0\n",
      "Loss for iteration is 33464.17673041919\n",
      "Accuracy at epoch #4 is 0.0\n",
      "Loss for iteration is 14190.612972981005\n",
      "Accuracy at epoch #5 is 0.0\n",
      "Loss for iteration is 147470814.52209246\n",
      "Accuracy at epoch #6 is 0.0\n",
      "Loss for iteration is 148992224.55978626\n",
      "Accuracy at epoch #7 is 0.0\n",
      "Loss for iteration is 1530966.239482058\n",
      "Accuracy at epoch #8 is 0.0\n",
      "Loss for iteration is 29940.032561251515\n",
      "Accuracy at epoch #9 is 0.0\n",
      "Loss for iteration is 9736.181861421646\n",
      "Accuracy at epoch #10 is 0.0\n",
      "Loss for iteration is 147463749.68745568\n",
      "Accuracy at epoch #11 is 0.0\n",
      "Loss for iteration is 148968186.32066205\n",
      "Accuracy at epoch #12 is 0.0\n",
      "Loss for iteration is 1494324.9883960884\n",
      "Accuracy at epoch #13 is 0.0\n",
      "Loss for iteration is 14318.134161848575\n",
      "Accuracy at epoch #14 is 0.0\n",
      "Loss for iteration is 147481801.6385285\n",
      "Accuracy at epoch #15 is 0.0\n",
      "Loss for iteration is 148967654.05410832\n",
      "Accuracy at epoch #16 is 0.0\n",
      "Loss for iteration is 1448007.206962102\n",
      "Accuracy at epoch #17 is 0.0\n",
      "Loss for iteration is 22066.199774212873\n",
      "Accuracy at epoch #18 is 0.0\n",
      "Loss for iteration is 32874.14218003795\n",
      "Accuracy at epoch #19 is 0.0\n",
      "Loss for iteration is 5416.6422891410475\n",
      "Accuracy at epoch #20 is 0.0\n",
      "Loss for iteration is 147460708.2343203\n",
      "Accuracy at epoch #21 is 0.0\n",
      "Loss for iteration is 149016147.15398103\n",
      "Accuracy at epoch #22 is 0.0\n",
      "Loss for iteration is 1574080.5042900485\n",
      "Accuracy at epoch #23 is 0.0\n",
      "Loss for iteration is 50015.66769201218\n",
      "Accuracy at epoch #24 is 0.0\n",
      "Loss for iteration is 28127.034437373397\n",
      "Accuracy at epoch #25 is 0.0\n",
      "Loss for iteration is 1763.7152355035068\n",
      "Accuracy at epoch #26 is 0.0\n",
      "Loss for iteration is 147469106.6305332\n",
      "Accuracy at epoch #27 is 0.0\n",
      "Loss for iteration is 148987250.29836926\n",
      "Accuracy at epoch #28 is 0.0\n",
      "Loss for iteration is 1515884.6166867374\n",
      "Accuracy at epoch #29 is 0.0\n",
      "Loss for iteration is 9169.255476751481\n",
      "Accuracy at epoch #30 is 0.0\n",
      "Loss for iteration is 31662.881691243238\n",
      "Accuracy at epoch #31 is 0.0\n",
      "Loss for iteration is 44320.0500328076\n",
      "Accuracy at epoch #32 is 0.0\n",
      "Loss for iteration is 17238.269890962605\n",
      "Accuracy at epoch #33 is 0.0\n",
      "Loss for iteration is 33864.43735923109\n",
      "Accuracy at epoch #34 is 0.0\n",
      "Loss for iteration is 778.2475669700361\n",
      "Accuracy at epoch #35 is 0.0\n",
      "Loss for iteration is 147451365.8169705\n",
      "Accuracy at epoch #36 is 0.0\n",
      "Loss for iteration is 148959115.72296792\n",
      "Accuracy at epoch #37 is 0.0\n",
      "Loss for iteration is 1543542.6095993207\n",
      "Accuracy at epoch #38 is 0.0\n",
      "Loss for iteration is 13302.729877901991\n",
      "Accuracy at epoch #39 is 0.0\n",
      "Loss for iteration is 147443367.831965\n",
      "Accuracy at epoch #40 is 0.0\n",
      "Loss for iteration is 148978232.55920786\n",
      "Accuracy at epoch #41 is 0.0\n",
      "Loss for iteration is 1560706.6422368512\n",
      "Accuracy at epoch #42 is 0.0\n",
      "Loss for iteration is 15489.215280973585\n",
      "Accuracy at epoch #43 is 0.0\n",
      "Loss for iteration is 147426219.83757287\n",
      "Accuracy at epoch #44 is 0.0\n",
      "Loss for iteration is 148962994.89599717\n",
      "Accuracy at epoch #45 is 0.0\n",
      "Loss for iteration is 1495263.3538840816\n",
      "Accuracy at epoch #46 is 0.0\n",
      "Loss for iteration is 6771.972003576608\n",
      "Accuracy at epoch #47 is 0.0\n",
      "Loss for iteration is 147472319.39984703\n",
      "Accuracy at epoch #48 is 0.0\n",
      "Loss for iteration is 148989203.06554085\n",
      "Accuracy at epoch #49 is 0.0\n",
      "Loss for iteration is 1512542.013011971\n",
      "Accuracy at epoch #50 is 0.0\n",
      "peak memory: 3848.24 MiB, increment: 140.44 MiB\n",
      "\n",
      "Average time per epoch: 2 seconds\n",
      "Final accuracy is 0.0\n"
     ]
    }
   ],
   "source": [
    "#Initialise the Weights and biases\n",
    "eelr = EncryptedLinReg(LinearRegressionModel(1, 1), context)\n",
    "eelr.clip_gradient(context)\n",
    "\n",
    "# Initate the weights and biases with test data\n",
    "accuracy = eelr.plain_accuracy(x_test_tensor.float(), y_test_tensor.float())\n",
    "print(f\"Accuracy at epoch #0 is {accuracy}\")\n",
    "\n",
    "EPOCHS = 50\n",
    "\n",
    "global times\n",
    "times = []\n",
    "\n",
    "\n",
    "def train(context, enc_x_train, enc_y_train, eelr):\n",
    "    for epoch in range(EPOCHS):\n",
    "        start = time.time()\n",
    "        # Encrypt the weights and biases\n",
    "        eelr.encrypt(context)\n",
    "        # Run forward pass\n",
    "        enc_out = eelr.forward(enc_x_train)\n",
    "        # Run backward pass\n",
    "        eelr.backward(enc_x_train, enc_out, enc_y_train)\n",
    "        \n",
    "        #Clip the delta gradient, requires decrypting the weights which will be sent back to the data owner\n",
    "        #The data owner will decrypt the weights clip it and send it back to the client\n",
    "        eelr.clip_delta_gradient(context)\n",
    "        \n",
    "        # Update the weights and biases\n",
    "        eelr.update_parameters()\n",
    "        \n",
    "        #Clip the gradient, requires decrypting the weights which will be sent back to the data owner\n",
    "        #The data owner will decrypt the weights clip it and send it back to the client\n",
    "        eelr.clip_gradient(context)\n",
    "\n",
    "        #Decrypt the weights and biases to test, in reality this will be sent back to the owner of the data\n",
    "        #where they'll decrypt the weights and biases and return it back to the server, in reality this will be minimal. Since it will result in a few kilobytes of commmunication per epoch.\n",
    "        eelr.decrypt()\n",
    "        \n",
    "        #Test the model\n",
    "        accuracy = eelr.plain_accuracy(\n",
    "            x_test_tensor.float().flatten(), y_test_tensor.float()\n",
    "        )\n",
    "        print(f\"Accuracy at epoch #{epoch + 1} is {accuracy}\")\n",
    "        times.append(time.time() - start)\n",
    "\n",
    "    return accuracy\n",
    "\n",
    "\n",
    "decimal_accuracy = eelr .decimal_accuracy\n",
    "#Test memory usage of the model\n",
    "mu_model_and_accuracy_test = %memit -o accuracy = train(context, enc_x_train, enc_y_train, eelr)\n",
    "mu_model_and_accuracy_test = memit_parser(mu_model_and_accuracy_test)\n",
    "print(f\"\\nAverage time per epoch: {int(sum(times) / len(times))} seconds\")\n",
    "print(f\"Final accuracy is {accuracy}\")\n"
   ]
  },
  {
   "cell_type": "code",
   "execution_count": 12,
   "id": "7155a55d",
   "metadata": {},
   "outputs": [
    {
     "name": "stdout",
     "output_type": "stream",
     "text": [
      "1512542.013011971, -1, 0.0, 2 , 3848.24, 3702.77 ,3706.70, 3485.93\n"
     ]
    }
   ],
   "source": [
    "csvlogger.info(\n",
    "    f\"{sum(abs(number) for number in eelr.out_minus_y.decrypt())}, {decimal_accuracy}, {accuracy}, {int(sum(times) / len(times))} , {mu_model_and_accuracy_test}, {mu_enc_x_train} ,{mu_enc_y_train}, {mu_key_generation}\"\n",
    ")\n",
    "print(\n",
    "    f\"{sum(abs(number) for number in eelr.out_minus_y.decrypt())}, {decimal_accuracy}, {accuracy}, {int(sum(times) / len(times))} , {mu_model_and_accuracy_test}, {mu_enc_x_train} ,{mu_enc_y_train}, {mu_key_generation}\"\n",
    ")"
   ]
  }
 ],
 "metadata": {
  "interpreter": {
   "hash": "9e281388417d40fdc24e67542ad3c17464e0aaf6dfc08fced3ecd5eb60e4a293"
  },
  "kernelspec": {
   "display_name": "Python 3.9.9 ('venv': venv)",
   "language": "python",
   "name": "python3"
  },
  "language_info": {
   "codemirror_mode": {
    "name": "ipython",
    "version": 3
   },
   "file_extension": ".py",
   "mimetype": "text/x-python",
   "name": "python",
   "nbconvert_exporter": "python",
   "pygments_lexer": "ipython3",
   "version": "3.9.9"
  }
 },
 "nbformat": 4,
 "nbformat_minor": 5
}
